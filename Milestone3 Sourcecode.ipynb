{
 "cells": [
  {
   "cell_type": "code",
   "execution_count": 9,
   "id": "faa81747-eeef-4fe9-9aab-299bc4951930",
   "metadata": {},
   "outputs": [
    {
     "name": "stdout",
     "output_type": "stream",
     "text": [
      "+----------+--------+----------+-----------+------+---------------+----------+-------------+---------------+-----+--------+-----------------+-----------------+------------------+-----------+\n",
      "|      Date|Store ID|Product ID|   Category|Region|Inventory Level|Units Sold|Units Ordered|Demand Forecast|Price|Discount|Weather Condition|Holiday/Promotion|Competitor Pricing|Seasonality|\n",
      "+----------+--------+----------+-----------+------+---------------+----------+-------------+---------------+-----+--------+-----------------+-----------------+------------------+-----------+\n",
      "|2022-01-01|    S001|     P0001|  Groceries| North|            231|       127|           55|         135.47| 33.5|      20|            Rainy|                0|             29.69|     Autumn|\n",
      "|2022-01-01|    S001|     P0002|       Toys| South|            204|       150|           66|         144.04|63.01|      20|            Sunny|                0|             66.16|     Autumn|\n",
      "|2022-01-01|    S001|     P0003|       Toys|  West|            102|        65|           51|          74.02|27.99|      10|            Sunny|                1|             31.32|     Summer|\n",
      "|2022-01-01|    S001|     P0004|       Toys| North|            469|        61|          164|          62.18|32.72|      10|           Cloudy|                1|             34.74|     Autumn|\n",
      "|2022-01-01|    S001|     P0005|Electronics|  East|            166|        14|          135|           9.26|73.64|       0|            Sunny|                0|             68.95|     Summer|\n",
      "+----------+--------+----------+-----------+------+---------------+----------+-------------+---------------+-----+--------+-----------------+-----------------+------------------+-----------+\n",
      "only showing top 5 rows\n",
      "\n"
     ]
    }
   ],
   "source": [
    "from pyspark.sql import SparkSession\n",
    "spark = SparkSession.builder.appName(\"retailstore\").getOrCreate()\n",
    "df = spark.read.option(\"header\", \"true\").csv(\"retail_store_inventory.csv\")\n",
    "df.show(5)"
   ]
  },
  {
   "cell_type": "code",
   "execution_count": 10,
   "id": "137b0830-5c90-4918-aa80-6e749f6046f9",
   "metadata": {},
   "outputs": [
    {
     "name": "stdout",
     "output_type": "stream",
     "text": [
      "+----------+--------+----------+-----------+------+---------------+----------+-------------+---------------+-----+--------+-----------------+-----------------+------------------+-----------+\n",
      "|      Date|Store ID|Product ID|   Category|Region|Inventory Level|Units Sold|Units Ordered|Demand Forecast|Price|Discount|Weather Condition|Holiday/Promotion|Competitor Pricing|Seasonality|\n",
      "+----------+--------+----------+-----------+------+---------------+----------+-------------+---------------+-----+--------+-----------------+-----------------+------------------+-----------+\n",
      "|2022-01-01|    S001|     P0001|  Groceries| North|            231|       127|           55|         135.47| 33.5|      20|            Rainy|                0|             29.69|     Autumn|\n",
      "|2022-01-01|    S001|     P0002|       Toys| South|            204|       150|           66|         144.04|63.01|      20|            Sunny|                0|             66.16|     Autumn|\n",
      "|2022-01-01|    S001|     P0003|       Toys|  West|            102|        65|           51|          74.02|27.99|      10|            Sunny|                1|             31.32|     Summer|\n",
      "|2022-01-01|    S001|     P0004|       Toys| North|            469|        61|          164|          62.18|32.72|      10|           Cloudy|                1|             34.74|     Autumn|\n",
      "|2022-01-01|    S001|     P0005|Electronics|  East|            166|        14|          135|           9.26|73.64|       0|            Sunny|                0|             68.95|     Summer|\n",
      "+----------+--------+----------+-----------+------+---------------+----------+-------------+---------------+-----+--------+-----------------+-----------------+------------------+-----------+\n",
      "only showing top 5 rows\n",
      "\n"
     ]
    }
   ],
   "source": [
    "df_cleaned = df.dropna()\n",
    "df_filled = df.fillna({\"Units Sold\": 0, \"Units Ordered\": 0, \"Price\": 0.0})\n",
    "df_filled.show(5)"
   ]
  },
  {
   "cell_type": "code",
   "execution_count": 8,
   "id": "17f807c6-2d29-45f0-97e4-fe4805df1124",
   "metadata": {},
   "outputs": [
    {
     "name": "stdout",
     "output_type": "stream",
     "text": [
      "+----------+--------+----------+-----------+------+---------------+----------+-------------+---------------+-----+--------+-----------------+-----------------+------------------+-----------+\n",
      "|      Date|Store ID|Product ID|   Category|Region|Inventory Level|Units Sold|Units Ordered|Demand Forecast|Price|Discount|Weather Condition|Holiday/Promotion|Competitor Pricing|Seasonality|\n",
      "+----------+--------+----------+-----------+------+---------------+----------+-------------+---------------+-----+--------+-----------------+-----------------+------------------+-----------+\n",
      "|2022-01-01|    S001|     P0001|  Groceries| North|            231|       127|           55|         135.47| 33.5|      20|            Rainy|                0|             29.69|     Autumn|\n",
      "|2022-01-01|    S001|     P0002|       Toys| South|            204|       150|           66|         144.04|63.01|      20|            Sunny|                0|             66.16|     Autumn|\n",
      "|2022-01-01|    S001|     P0003|       Toys|  West|            102|        65|           51|          74.02|27.99|      10|            Sunny|                1|             31.32|     Summer|\n",
      "|2022-01-01|    S001|     P0004|       Toys| North|            469|        61|          164|          62.18|32.72|      10|           Cloudy|                1|             34.74|     Autumn|\n",
      "|2022-01-01|    S001|     P0005|Electronics|  East|            166|        14|          135|           9.26|73.64|       0|            Sunny|                0|             68.95|     Summer|\n",
      "+----------+--------+----------+-----------+------+---------------+----------+-------------+---------------+-----+--------+-----------------+-----------------+------------------+-----------+\n",
      "only showing top 5 rows\n",
      "\n"
     ]
    }
   ],
   "source": [
    "from pyspark.sql.functions import col\n",
    "df_cleaned = df_cleaned.withColumn(\"Units Sold\", col(\"Units Sold\").cast(\"int\")) \\\n",
    "                       .withColumn(\"Price\", col(\"Price\").cast(\"float\"))\n",
    "df_cleaned.show(5)"
   ]
  },
  {
   "cell_type": "code",
   "execution_count": 11,
   "id": "0d82de1f-eb6e-4542-bc3e-67875ae74ad5",
   "metadata": {},
   "outputs": [
    {
     "name": "stdout",
     "output_type": "stream",
     "text": [
      "+----------+--------+----------+-----------+------+---------------+----------+-------------+---------------+-----+--------+-----------------+-----------------+------------------+-----------+------------------+\n",
      "|      Date|Store ID|Product ID|   Category|Region|Inventory Level|Units Sold|Units Ordered|Demand Forecast|Price|Discount|Weather Condition|Holiday/Promotion|Competitor Pricing|Seasonality|       Total Sales|\n",
      "+----------+--------+----------+-----------+------+---------------+----------+-------------+---------------+-----+--------+-----------------+-----------------+------------------+-----------+------------------+\n",
      "|2022-01-01|    S001|     P0001|  Groceries| North|            231|       127|           55|         135.47| 33.5|      20|            Rainy|                0|             29.69|     Autumn|            4254.5|\n",
      "|2022-01-01|    S001|     P0002|       Toys| South|            204|       150|           66|         144.04|63.01|      20|            Sunny|                0|             66.16|     Autumn|            9451.5|\n",
      "|2022-01-01|    S001|     P0003|       Toys|  West|            102|        65|           51|          74.02|27.99|      10|            Sunny|                1|             31.32|     Summer|           1819.35|\n",
      "|2022-01-01|    S001|     P0004|       Toys| North|            469|        61|          164|          62.18|32.72|      10|           Cloudy|                1|             34.74|     Autumn|1995.9199999999998|\n",
      "|2022-01-01|    S001|     P0005|Electronics|  East|            166|        14|          135|           9.26|73.64|       0|            Sunny|                0|             68.95|     Summer|           1030.96|\n",
      "+----------+--------+----------+-----------+------+---------------+----------+-------------+---------------+-----+--------+-----------------+-----------------+------------------+-----------+------------------+\n",
      "only showing top 5 rows\n",
      "\n"
     ]
    }
   ],
   "source": [
    "df_cleaned = df_cleaned.withColumn(\"Total Sales\", col(\"Units Sold\") * col(\"Price\"))\n",
    "df_cleaned.show(5)"
   ]
  },
  {
   "cell_type": "code",
   "execution_count": 12,
   "id": "ba4874d6-10cc-40d0-bce9-88ff423f4cd9",
   "metadata": {},
   "outputs": [
    {
     "name": "stdout",
     "output_type": "stream",
     "text": [
      "+------+--------------------+\n",
      "|Region|    sum(Total Sales)|\n",
      "+------+--------------------+\n",
      "|  East|1.3871205433000028E8|\n",
      "| South|1.3848356684000042E8|\n",
      "| North|1.3725526734999967E8|\n",
      "|  West|1.3577799639000016E8|\n",
      "+------+--------------------+\n",
      "\n"
     ]
    }
   ],
   "source": [
    "sales_by_region = df_cleaned.groupBy(\"Region\").sum(\"Total Sales\").orderBy(\"sum(Total Sales)\", ascending=False)\n",
    "sales_by_region.show()"
   ]
  },
  {
   "cell_type": "code",
   "execution_count": 13,
   "id": "49ed00c8-15bd-48e7-a852-8efadea1df96",
   "metadata": {},
   "outputs": [],
   "source": [
    "from pyspark.sql.window import Window\n",
    "from pyspark.sql.functions import rank\n",
    "window_spec = Window.partitionBy(\"Region\").orderBy(col(\"Total Sales\").desc())\n",
    "df_ranked = df_cleaned.withColumn(\"Rank\", rank().over(window_spec))"
   ]
  },
  {
   "cell_type": "code",
   "execution_count": 14,
   "id": "190a3d93-ca87-470b-a09d-552a712d5cd9",
   "metadata": {},
   "outputs": [
    {
     "name": "stdout",
     "output_type": "stream",
     "text": [
      "+------+----------+------------------+\n",
      "|Region|Product ID|       Total Sales|\n",
      "+------+----------+------------------+\n",
      "|  East|     P0002|          47860.47|\n",
      "|  East|     P0013|45584.119999999995|\n",
      "|  East|     P0010|           45361.8|\n",
      "|  East|     P0005|45212.880000000005|\n",
      "|  East|     P0018|           45054.9|\n",
      "| North|     P0009|          45575.88|\n",
      "| North|     P0007|          45077.68|\n",
      "| North|     P0001|          45023.47|\n",
      "| North|     P0010|           45018.8|\n",
      "| North|     P0011|44664.159999999996|\n",
      "| South|     P0018|           47141.6|\n",
      "| South|     P0010|45421.200000000004|\n",
      "| South|     P0015|           44500.5|\n",
      "| South|     P0004|          43719.94|\n",
      "| South|     P0017|           43612.6|\n",
      "|  West|     P0020|          46810.54|\n",
      "|  West|     P0013|          46792.13|\n",
      "|  West|     P0004|          45929.43|\n",
      "|  West|     P0003|           45364.9|\n",
      "|  West|     P0010|44195.200000000004|\n",
      "+------+----------+------------------+\n",
      "\n"
     ]
    }
   ],
   "source": [
    "top_5_products = df_ranked.filter(col(\"Rank\") <= 5).select(\"Region\", \"Product ID\", \"Total Sales\")\n",
    "top_5_products.show()"
   ]
  },
  {
   "cell_type": "code",
   "execution_count": 15,
   "id": "ca4bc559-7d10-46e4-9197-fd5fd43d45dd",
   "metadata": {},
   "outputs": [
    {
     "name": "stdout",
     "output_type": "stream",
     "text": [
      "+----------+--------+----------+-----------+------+---------------+----------+-------------+---------------+-----+--------+-----------------+-----------------+------------------+-----------+------------------+-----+----+\n",
      "|      Date|Store ID|Product ID|   Category|Region|Inventory Level|Units Sold|Units Ordered|Demand Forecast|Price|Discount|Weather Condition|Holiday/Promotion|Competitor Pricing|Seasonality|       Total Sales|Month|Year|\n",
      "+----------+--------+----------+-----------+------+---------------+----------+-------------+---------------+-----+--------+-----------------+-----------------+------------------+-----------+------------------+-----+----+\n",
      "|2022-01-01|    S001|     P0001|  Groceries| North|            231|       127|           55|         135.47| 33.5|      20|            Rainy|                0|             29.69|     Autumn|            4254.5|    1|2022|\n",
      "|2022-01-01|    S001|     P0002|       Toys| South|            204|       150|           66|         144.04|63.01|      20|            Sunny|                0|             66.16|     Autumn|            9451.5|    1|2022|\n",
      "|2022-01-01|    S001|     P0003|       Toys|  West|            102|        65|           51|          74.02|27.99|      10|            Sunny|                1|             31.32|     Summer|           1819.35|    1|2022|\n",
      "|2022-01-01|    S001|     P0004|       Toys| North|            469|        61|          164|          62.18|32.72|      10|           Cloudy|                1|             34.74|     Autumn|1995.9199999999998|    1|2022|\n",
      "|2022-01-01|    S001|     P0005|Electronics|  East|            166|        14|          135|           9.26|73.64|       0|            Sunny|                0|             68.95|     Summer|           1030.96|    1|2022|\n",
      "+----------+--------+----------+-----------+------+---------------+----------+-------------+---------------+-----+--------+-----------------+-----------------+------------------+-----------+------------------+-----+----+\n",
      "only showing top 5 rows\n",
      "\n"
     ]
    }
   ],
   "source": [
    "from pyspark.sql.functions import to_date, month, year\n",
    "df_cleaned = df_cleaned.withColumn(\"Date\", to_date(col(\"Date\"), \"yyyy-MM-dd\"))\n",
    "df_cleaned = df_cleaned.withColumn(\"Month\", month(col(\"Date\"))).withColumn(\"Year\", year(col(\"Date\")))\n",
    "df_cleaned.show(5)"
   ]
  },
  {
   "cell_type": "code",
   "execution_count": 16,
   "id": "9c9c898e-0c76-4f64-a7f3-a4485a574d66",
   "metadata": {},
   "outputs": [
    {
     "name": "stdout",
     "output_type": "stream",
     "text": [
      "+----+-----+--------------------+\n",
      "|Year|Month|    sum(Total Sales)|\n",
      "+----+-----+--------------------+\n",
      "|2022|   10| 2.345940017359829E7|\n",
      "|2022|    2|2.1184921846039772E7|\n",
      "|2022|    7| 2.359868879216957E7|\n",
      "|2022|   11|2.3117943414373398E7|\n",
      "|2022|    3|2.4004750137041092E7|\n",
      "+----+-----+--------------------+\n",
      "only showing top 5 rows\n",
      "\n"
     ]
    }
   ],
   "source": [
    "monthly_sales = df_cleaned.groupBy(\"Year\", \"Month\").agg({\"Total Sales\": \"sum\"})\n",
    "monthly_sales.show(5)"
   ]
  },
  {
   "cell_type": "code",
   "execution_count": 19,
   "id": "91f2c66f-dbe0-4346-93ae-9b92ff5b52df",
   "metadata": {},
   "outputs": [
    {
     "name": "stdout",
     "output_type": "stream",
     "text": [
      "Collecting pandas\n",
      "  Using cached pandas-2.2.3-cp312-cp312-win_amd64.whl.metadata (19 kB)\n",
      "Collecting numpy>=1.26.0 (from pandas)\n",
      "  Downloading numpy-2.1.3-cp312-cp312-win_amd64.whl.metadata (60 kB)\n",
      "Requirement already satisfied: python-dateutil>=2.8.2 in c:\\users\\s562628\\appdata\\local\\programs\\python\\python312\\lib\\site-packages (from pandas) (2.9.0.post0)\n",
      "Collecting pytz>=2020.1 (from pandas)\n",
      "  Using cached pytz-2024.2-py2.py3-none-any.whl.metadata (22 kB)\n",
      "Collecting tzdata>=2022.7 (from pandas)\n",
      "  Using cached tzdata-2024.2-py2.py3-none-any.whl.metadata (1.4 kB)\n",
      "Requirement already satisfied: six>=1.5 in c:\\users\\s562628\\appdata\\local\\programs\\python\\python312\\lib\\site-packages (from python-dateutil>=2.8.2->pandas) (1.17.0)\n",
      "Using cached pandas-2.2.3-cp312-cp312-win_amd64.whl (11.5 MB)\n",
      "Downloading numpy-2.1.3-cp312-cp312-win_amd64.whl (12.6 MB)\n",
      "   ---------------------------------------- 0.0/12.6 MB ? eta -:--:--\n",
      "   ------- -------------------------------- 2.4/12.6 MB 12.2 MB/s eta 0:00:01\n",
      "   --------------- ------------------------ 5.0/12.6 MB 12.1 MB/s eta 0:00:01\n",
      "   ---------------------- ----------------- 7.1/12.6 MB 11.5 MB/s eta 0:00:01\n",
      "   ------------------------------- -------- 10.0/12.6 MB 12.2 MB/s eta 0:00:01\n",
      "   ---------------------------------------  12.3/12.6 MB 11.7 MB/s eta 0:00:01\n",
      "   ---------------------------------------- 12.6/12.6 MB 11.1 MB/s eta 0:00:00\n",
      "Using cached pytz-2024.2-py2.py3-none-any.whl (508 kB)\n",
      "Using cached tzdata-2024.2-py2.py3-none-any.whl (346 kB)\n",
      "Installing collected packages: pytz, tzdata, numpy, pandas\n",
      "Successfully installed numpy-2.1.3 pandas-2.2.3 pytz-2024.2 tzdata-2024.2\n"
     ]
    },
    {
     "name": "stderr",
     "output_type": "stream",
     "text": [
      "\n",
      "[notice] A new release of pip is available: 24.2 -> 24.3.1\n",
      "[notice] To update, run: python.exe -m pip install --upgrade pip\n"
     ]
    }
   ],
   "source": [
    "!pip install pandas"
   ]
  },
  {
   "cell_type": "code",
   "execution_count": 21,
   "id": "15dd7def-fa5d-483e-89d0-3eeafa37235c",
   "metadata": {},
   "outputs": [
    {
     "name": "stdout",
     "output_type": "stream",
     "text": [
      "Collecting matplotlib\n",
      "  Downloading matplotlib-3.9.3-cp312-cp312-win_amd64.whl.metadata (11 kB)\n",
      "Collecting contourpy>=1.0.1 (from matplotlib)\n",
      "  Downloading contourpy-1.3.1-cp312-cp312-win_amd64.whl.metadata (5.4 kB)\n",
      "Collecting cycler>=0.10 (from matplotlib)\n",
      "  Downloading cycler-0.12.1-py3-none-any.whl.metadata (3.8 kB)\n",
      "Collecting fonttools>=4.22.0 (from matplotlib)\n",
      "  Downloading fonttools-4.55.2-cp312-cp312-win_amd64.whl.metadata (168 kB)\n",
      "Collecting kiwisolver>=1.3.1 (from matplotlib)\n",
      "  Downloading kiwisolver-1.4.7-cp312-cp312-win_amd64.whl.metadata (6.4 kB)\n",
      "Requirement already satisfied: numpy>=1.23 in c:\\users\\s562628\\appdata\\local\\programs\\python\\python312\\lib\\site-packages (from matplotlib) (2.1.3)\n",
      "Requirement already satisfied: packaging>=20.0 in c:\\users\\s562628\\appdata\\local\\programs\\python\\python312\\lib\\site-packages (from matplotlib) (24.2)\n",
      "Collecting pillow>=8 (from matplotlib)\n",
      "  Downloading pillow-11.0.0-cp312-cp312-win_amd64.whl.metadata (9.3 kB)\n",
      "Collecting pyparsing>=2.3.1 (from matplotlib)\n",
      "  Downloading pyparsing-3.2.0-py3-none-any.whl.metadata (5.0 kB)\n",
      "Requirement already satisfied: python-dateutil>=2.7 in c:\\users\\s562628\\appdata\\local\\programs\\python\\python312\\lib\\site-packages (from matplotlib) (2.9.0.post0)\n",
      "Requirement already satisfied: six>=1.5 in c:\\users\\s562628\\appdata\\local\\programs\\python\\python312\\lib\\site-packages (from python-dateutil>=2.7->matplotlib) (1.17.0)\n",
      "Downloading matplotlib-3.9.3-cp312-cp312-win_amd64.whl (7.8 MB)\n",
      "   ---------------------------------------- 0.0/7.8 MB ? eta -:--:--\n",
      "   ---- ----------------------------------- 0.8/7.8 MB 3.7 MB/s eta 0:00:02\n",
      "   -------------- ------------------------- 2.9/7.8 MB 6.7 MB/s eta 0:00:01\n",
      "   -------------------------- ------------- 5.2/7.8 MB 8.6 MB/s eta 0:00:01\n",
      "   -------------------------------------- - 7.6/7.8 MB 9.4 MB/s eta 0:00:01\n",
      "   ---------------------------------------- 7.8/7.8 MB 9.1 MB/s eta 0:00:00\n",
      "Downloading contourpy-1.3.1-cp312-cp312-win_amd64.whl (220 kB)\n",
      "Downloading cycler-0.12.1-py3-none-any.whl (8.3 kB)\n",
      "Downloading fonttools-4.55.2-cp312-cp312-win_amd64.whl (2.2 MB)\n",
      "   ---------------------------------------- 0.0/2.2 MB ? eta -:--:--\n",
      "   --------------------------------- ------ 1.8/2.2 MB 10.0 MB/s eta 0:00:01\n",
      "   ---------------------------------------- 2.2/2.2 MB 8.2 MB/s eta 0:00:00\n",
      "Downloading kiwisolver-1.4.7-cp312-cp312-win_amd64.whl (55 kB)\n",
      "Downloading pillow-11.0.0-cp312-cp312-win_amd64.whl (2.6 MB)\n",
      "   ---------------------------------------- 0.0/2.6 MB ? eta -:--:--\n",
      "   ------------------------------------ --- 2.4/2.6 MB 14.9 MB/s eta 0:00:01\n",
      "   ---------------------------------------- 2.6/2.6 MB 9.8 MB/s eta 0:00:00\n",
      "Downloading pyparsing-3.2.0-py3-none-any.whl (106 kB)\n",
      "Installing collected packages: pyparsing, pillow, kiwisolver, fonttools, cycler, contourpy, matplotlib\n",
      "Successfully installed contourpy-1.3.1 cycler-0.12.1 fonttools-4.55.2 kiwisolver-1.4.7 matplotlib-3.9.3 pillow-11.0.0 pyparsing-3.2.0\n"
     ]
    },
    {
     "name": "stderr",
     "output_type": "stream",
     "text": [
      "\n",
      "[notice] A new release of pip is available: 24.2 -> 24.3.1\n",
      "[notice] To update, run: python.exe -m pip install --upgrade pip\n"
     ]
    }
   ],
   "source": [
    "!pip install matplotlib"
   ]
  },
  {
   "cell_type": "code",
   "execution_count": 22,
   "id": "f48c1f78-081f-4b44-a8f0-4b6b4a6d5166",
   "metadata": {},
   "outputs": [
    {
     "name": "stderr",
     "output_type": "stream",
     "text": [
      "Matplotlib is building the font cache; this may take a moment.\n"
     ]
    },
    {
     "data": {
      "image/png": "[encoded data removed]",
      "text/plain": [
       "<Figure size 1000x600 with 1 Axes>"
      ]
     },
     "metadata": {},
     "output_type": "display_data"
    }
   ],
   "source": [
    "pandas_df = monthly_sales.toPandas()\n",
    "import matplotlib.pyplot as plt\n",
    "plt.figure(figsize=(10, 6))\n",
    "plt.plot(pandas_df['Month'], pandas_df['sum(Total Sales)'], marker='o')\n",
    "plt.title('Monthly Sales Trend')\n",
    "plt.xlabel('Month')\n",
    "plt.ylabel('Total Sales')\n",
    "plt.grid(True)\n",
    "plt.show()"
   ]
  },
  {
   "cell_type": "code",
   "execution_count": 18,
   "id": "ab19be83-dc42-42b9-b3b2-4f8a251e95e2",
   "metadata": {},
   "outputs": [
    {
     "name": "stdout",
     "output_type": "stream",
     "text": [
      "+----------+--------+----------+-----------+------+---------------+----------+-------------+---------------+-----+--------+-----------------+-----------------+------------------+-----------+------------------+-----+----+----------------+-------------------+\n",
      "|      Date|Store ID|Product ID|   Category|Region|Inventory Level|Units Sold|Units Ordered|Demand Forecast|Price|Discount|Weather Condition|Holiday/Promotion|Competitor Pricing|Seasonality|       Total Sales|Month|Year|Discounted Price|             Profit|\n",
      "+----------+--------+----------+-----------+------+---------------+----------+-------------+---------------+-----+--------+-----------------+-----------------+------------------+-----------+------------------+-----+----+----------------+-------------------+\n",
      "|2022-01-01|    S001|     P0001|  Groceries| North|            231|       127|           55|         135.47| 33.5|      20|            Rainy|                0|             29.69|     Autumn|            4254.5|    1|2022|            26.8| -850.8999999999999|\n",
      "|2022-01-01|    S001|     P0002|       Toys| South|            204|       150|           66|         144.04|63.01|      20|            Sunny|                0|             66.16|     Autumn|            9451.5|    1|2022|          50.408|-1890.2999999999995|\n",
      "|2022-01-01|    S001|     P0003|       Toys|  West|            102|        65|           51|          74.02|27.99|      10|            Sunny|                1|             31.32|     Summer|           1819.35|    1|2022|          25.191|-181.93499999999997|\n",
      "|2022-01-01|    S001|     P0004|       Toys| North|            469|        61|          164|          62.18|32.72|      10|           Cloudy|                1|             34.74|     Autumn|1995.9199999999998|    1|2022|          29.448| -199.5919999999999|\n",
      "|2022-01-01|    S001|     P0005|Electronics|  East|            166|        14|          135|           9.26|73.64|       0|            Sunny|                0|             68.95|     Summer|           1030.96|    1|2022|           73.64|                0.0|\n",
      "+----------+--------+----------+-----------+------+---------------+----------+-------------+---------------+-----+--------+-----------------+-----------------+------------------+-----------+------------------+-----+----+----------------+-------------------+\n",
      "only showing top 5 rows\n",
      "\n"
     ]
    }
   ],
   "source": [
    "df_cleaned = df_cleaned.withColumn(\"Discounted Price\", col(\"Price\") * (1 - col(\"Discount\") / 100))\n",
    "df_cleaned = df_cleaned.withColumn(\"Profit\", (col(\"Discounted Price\") - col(\"Price\")) * col(\"Units Sold\"))\n",
    "df_cleaned.show(5)"
   ]
  },
  {
   "cell_type": "code",
   "execution_count": 19,
   "id": "b7e82173-4ded-4ac7-b504-7bca455e9d07",
   "metadata": {
    "scrolled": true
   },
   "outputs": [
    {
     "name": "stdout",
     "output_type": "stream",
     "text": [
      "+------+--------------------+\n",
      "|Region|         sum(Profit)|\n",
      "+------+--------------------+\n",
      "|  West|-1.370991485849997E7|\n",
      "| North|-1.37116049985000...|\n",
      "| South|-1.391617846600005E7|\n",
      "|  East|-1.39198116384999...|\n",
      "+------+--------------------+\n",
      "\n"
     ]
    }
   ],
   "source": [
    "profitability_by_region = df_cleaned.groupBy(\"Region\").sum(\"Profit\").orderBy(\"sum(Profit)\", ascending=False)\n",
    "profitability_by_region.show()"
   ]
  },
  {
   "cell_type": "code",
   "execution_count": null,
   "id": "d95d7912-efb0-4667-a43f-6754a6b804c3",
   "metadata": {},
   "outputs": [],
   "source": []
  }
 ],
 "metadata": {
  "kernelspec": {
   "display_name": "Python 3 (ipykernel)",
   "language": "python",
   "name": "python3"
  },
  "language_info": {
   "codemirror_mode": {
    "name": "ipython",
    "version": 3
   },
   "file_extension": ".py",
   "mimetype": "text/x-python",
   "name": "python",
   "nbconvert_exporter": "python",
   "pygments_lexer": "ipython3",
   "version": "3.12.7"
  }
 },
 "nbformat": 4,
 "nbformat_minor": 5
}
